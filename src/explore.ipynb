{
    "cells": [
        {
            "cell_type": "markdown",
            "metadata": {},
            "source": [
                "# Explore here"
            ]
        },
        {
            "cell_type": "code",
            "execution_count": 1098,
            "metadata": {},
            "outputs": [],
            "source": [
                "# Import libraries\n",
                "import pandas as pd\n",
                "import matplotlib.pyplot as plt\n",
                "import numpy as np\n",
                "from sklearn.model_selection import train_test_split\n",
                "from sklearn.ensemble import GradientBoostingClassifier\n",
                "from sklearn.metrics import *\n",
                "from pickle import dump"
            ]
        },
        {
            "cell_type": "code",
            "execution_count": 1099,
            "metadata": {},
            "outputs": [],
            "source": [
                "### DATA ANALYSIS FOR NATIONAL INSTITUTE OF DIABETES AND DIGESTIVE AND KIDNEY DISEASES\n",
                "# Get Demographic Health data\n",
                "df = pd.read_csv(\"https://raw.githubusercontent.com/4GeeksAcademy/decision-tree-project-tutorial/main/diabetes.csv\")"
            ]
        },
        {
            "cell_type": "code",
            "execution_count": 1100,
            "metadata": {},
            "outputs": [],
            "source": [
                "# Express Exploratory data analysis (EDA)\n",
                "# Replace the zero values by the second minimum value in the \"Glucose\" column\n",
                "df.loc[df['Glucose'] == 0, 'Glucose'] = df['Glucose'].sort_values().unique()[1]\n",
                "# Replace the zero values by the second minimum value in the \"BloodPressure\" column\n",
                "df.loc[df['BloodPressure'] == 0, 'BloodPressure'] = df['BloodPressure'].sort_values().unique()[1]\n",
                "# Replace the zero values by the second minimum value in the \"SkinThickness\" column\n",
                "df.loc[df['SkinThickness'] == 0, 'SkinThickness'] = df['SkinThickness'].sort_values().unique()[1]\n",
                "# Replace the zero values by the second minimum value in the \"Insulin\" column\n",
                "df.loc[df['Insulin'] == 0, 'Insulin'] = df['Insulin'].sort_values().unique()[1]\n",
                "# Replace the zero values by the second minimum value in the \"BMI\" column\n",
                "df.loc[df['BMI'] == 0, 'BMI'] = df['BMI'].sort_values().unique()[1]"
            ]
        },
        {
            "cell_type": "code",
            "execution_count": 1101,
            "metadata": {},
            "outputs": [],
            "source": [
                "# Train/test split\n",
                "X_train, X_test, y_train, y_test = train_test_split(df.drop(['Outcome'],axis=1), df['Outcome'], test_size=0.2, random_state=42)"
            ]
        },
        {
            "cell_type": "code",
            "execution_count": 1102,
            "metadata": {},
            "outputs": [
                {
                    "data": {
                        "text/plain": [
                            "array([0, 0, 0, 0, 0, 0, 0, 0, 0, 0, 0, 1, 0, 0, 0, 0, 0, 0, 1, 0, 0, 0,\n",
                            "       0, 0, 0, 1, 0, 0, 0, 0, 1, 1, 1, 1, 0, 1, 1, 0, 0, 0, 0, 0, 0, 1,\n",
                            "       0, 1, 1, 0, 0, 1, 0, 1, 1, 0, 0, 0, 0, 0, 0, 1, 1, 0, 0, 0, 0, 0,\n",
                            "       0, 1, 0, 1, 1, 0, 0, 0, 0, 0, 0, 0, 0, 0, 1, 0, 0, 0, 0, 1, 1, 0,\n",
                            "       0, 0, 0, 0, 0, 0, 0, 0, 0, 0, 1, 0, 1, 0, 1, 0, 1, 0, 0, 1, 0, 1,\n",
                            "       0, 1, 0, 1, 0, 0, 1, 0, 0, 0, 0, 0, 0, 0, 0, 0, 0, 1, 1, 1, 1, 1,\n",
                            "       0, 0, 1, 0, 0, 1, 1, 0, 0, 0, 0, 0, 0, 0, 0, 0, 0, 1, 0, 0, 0, 0])"
                        ]
                    },
                    "execution_count": 1102,
                    "metadata": {},
                    "output_type": "execute_result"
                }
            ],
            "source": [
                "# Create the Boosting Algorithm\n",
                "gbc = GradientBoostingClassifier(n_estimators = 15, max_depth=3, learning_rate=0.1, max_features=2, random_state = 42)\n",
                "# Train the model with the train data\n",
                "gbc.fit(X_train, y_train)\n",
                "# Make predictions with the test data\n",
                "y_pred = gbc.predict(X_test)\n",
                "y_pred"
            ]
        },
        {
            "cell_type": "code",
            "execution_count": 1103,
            "metadata": {},
            "outputs": [
                {
                    "name": "stdout",
                    "output_type": "stream",
                    "text": [
                        "Gradient Boosting Classifier accuracy is : 0.83\n",
                        "Gradient Boosting Classifier accuracy is: 0.8311688311688312\n"
                    ]
                }
            ],
            "source": [
                "# Accuracy of the Boosting model\n",
                "print(\"Gradient Boosting Classifier accuracy is : {:.2f}\".format(accuracy_score(y_test, y_pred)))\n",
                "print(f\"Gradient Boosting Classifier accuracy is: {accuracy_score(y_test, y_pred)}\")"
            ]
        },
        {
            "cell_type": "markdown",
            "metadata": {},
            "source": [
                "The Gradient Boosting was testing with different hyperparameters:\n",
                "- n_estimators: 5, 10, 12, 15, 20, 30, 50.\n",
                "- max_depth: 2, 3, 4.\n",
                "- learning_rate: 0.01, , 0.09, 0.10, 0.11, 0.15, 0.2.\n",
                "\n",
                "The best accuracy was for a Gradient Boosting model with 15 n_estimators, a max_depth of 3 and 2 max_features."
            ]
        },
        {
            "cell_type": "markdown",
            "metadata": {},
            "source": [
                "These are the accuracy metric for the Decision Tree models, the Random Forest(n_estimators=10, max_depth=4, random_state=42) and the Gradient Boosting model (n_estimators=15, max_depth=3, max_features=2, random_state=42):\n",
                "- Simple Tree Decision model for test data: 0.63\n",
                "- Complex Tree Decision model for test data: 0.74\n",
                "- Random Forest model for test data: 0.81\n",
                "- Gradient Boosting model for test data: 0.83\n",
                "\n",
                "This Gradient Boosting model is better than the Simple Decision Tree, the Complex Decision Tree and the Random Forest models."
            ]
        },
        {
            "cell_type": "code",
            "execution_count": 1104,
            "metadata": {},
            "outputs": [
                {
                    "name": "stdout",
                    "output_type": "stream",
                    "text": [
                        "[[  0 113]\n",
                        " [  1  41]]\n"
                    ]
                }
            ],
            "source": [
                "# Outcomes for y_pred\n",
                "unique, counts = np.unique(y_pred, return_counts=True)\n",
                "outcomes_pred = np.column_stack((unique, counts))\n",
                "print(outcomes_pred)"
            ]
        },
        {
            "cell_type": "code",
            "execution_count": 1105,
            "metadata": {},
            "outputs": [
                {
                    "name": "stdout",
                    "output_type": "stream",
                    "text": [
                        "[[ 0 99]\n",
                        " [ 1 55]]\n"
                    ]
                }
            ],
            "source": [
                "# Outcomes for y_test\n",
                "unique_test, counts_t = np.unique(y_test, return_counts=True)\n",
                "outcomes_test = np.column_stack((unique_t, counts_t))\n",
                "print(outcomes_test)"
            ]
        },
        {
            "cell_type": "code",
            "execution_count": 1106,
            "metadata": {},
            "outputs": [
                {
                    "data": {
                        "image/png": "[encoded data removed]",
                        "text/plain": [
                            "<Figure size 640x480 with 1 Axes>"
                        ]
                    },
                    "metadata": {},
                    "output_type": "display_data"
                }
            ],
            "source": [
                "# Plot the total Outcome for y_test and for y_pred values\n",
                "plt.figure()\n",
                "plt.plot(outcome_test[:,1],\"gd\",label=\"Y_test\")\n",
                "plt.plot(outcomes_pred[:,1],\"b^\",label=\"Y_pred\")\n",
                "plt.ylabel(\"Total number of each Outcome\")\n",
                "plt.xlabel(\"Outcomes\")\n",
                "plt.title(\"Test and predicted values\")\n",
                "plt.legend(loc='best')\n",
                "plt.show()"
            ]
        },
        {
            "cell_type": "code",
            "execution_count": 1107,
            "metadata": {},
            "outputs": [],
            "source": [
                "from pickle import dump\n",
                "\n",
                "dump(model, open(\"../models/gradientboosting_classifier_nestimators-12_mdepth-3_maxf_2_42.sav\", \"wb\"))"
            ]
        }
    ],
    "metadata": {
        "kernelspec": {
            "display_name": "Python 3",
            "language": "python",
            "name": "python3"
        },
        "language_info": {
            "codemirror_mode": {
                "name": "ipython",
                "version": 3
            },
            "file_extension": ".py",
            "mimetype": "text/x-python",
            "name": "python",
            "nbconvert_exporter": "python",
            "pygments_lexer": "ipython3",
            "version": "3.10.12"
        },
        "orig_nbformat": 4
    },
    "nbformat": 4,
    "nbformat_minor": 2
}
